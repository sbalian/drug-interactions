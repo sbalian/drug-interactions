{
 "cells": [
  {
   "cell_type": "markdown",
   "metadata": {},
   "source": [
    "# Drug interactions\n",
    "\n",
    "*** Seto Balian, Jul 15 2016 ***"
   ]
  },
  {
   "cell_type": "markdown",
   "metadata": {},
   "source": [
    "## Get data"
   ]
  },
  {
   "cell_type": "code",
   "execution_count": 23,
   "metadata": {
    "collapsed": true
   },
   "outputs": [],
   "source": [
    "import requests\n",
    "\n",
    "# Names should be generic\n",
    "sample_drug = \"Ibuprofen\"\n",
    "\n",
    "drugs_to_compare =[\"Hydrocodone\",\"Albuterol\",\"Amoxicillin\",\"Atorvastatin\"]\n",
    "\n",
    "url_terms = [\"https://api.fda.gov/drug/event.json?search=\",\n",
    "             \"seriousnessdeath:\\\"1\\\"\",\n",
    "             \"+AND+primarysource.qualification:\\\"1\\\"\",\n",
    "             \"+AND+patient.drug.openfda.generic_name:\\\"\",\n",
    "             sample_drug,\n",
    "             \"\\\"+AND+patient.drug.openfda.generic_name:\\\"\"]\n",
    "\n",
    "pre_compare = ''.join(url_terms)\n",
    "post_compare = \"\\\"&limit=1\"\n",
    "url_requests = [pre_compare + drug + post_compare for drug in drugs_to_compare]\n",
    "\n",
    "num_records = []\n",
    "for url_request in url_requests:\n",
    "    json_data = requests.get(url_request).json()\n",
    "    rc = json_data[\"meta\"][\"results\"][\"total\"]\n",
    "    num_records.append(rc)\n"
   ]
  },
  {
   "cell_type": "markdown",
   "metadata": {},
   "source": [
    "## Write to disk"
   ]
  },
  {
   "cell_type": "code",
   "execution_count": 24,
   "metadata": {
    "collapsed": true
   },
   "outputs": [],
   "source": [
    "# join for plot\n",
    "output = [ [drug,num_records[i]] for i,drug in enumerate(drugs_to_compare) ]\n",
    "\n",
    "output.sort(key=lambda x: x[1],reverse=True)\n",
    "\n",
    "#print(output)\n",
    "\n",
    "f = open('interact.dat', 'w')\n",
    "for row in output:\n",
    "    f.write(row[0] + ' ')\n",
    "    f.write(str(row[1]))\n",
    "    f.write(\"\\n\")\n",
    "\n",
    "f.close()\n",
    "\n",
    "data = output"
   ]
  },
  {
   "cell_type": "code",
   "execution_count": 25,
   "metadata": {
    "collapsed": false
   },
   "outputs": [
    {
     "data": {
      "text/plain": [
       "[['Hydrocodone', 163],\n",
       " ['Albuterol', 91],\n",
       " ['Amoxicillin', 57],\n",
       " ['Atorvastatin', 55]]"
      ]
     },
     "execution_count": 25,
     "metadata": {},
     "output_type": "execute_result"
    }
   ],
   "source": [
    "data"
   ]
  },
  {
   "cell_type": "markdown",
   "metadata": {},
   "source": [
    "## Plot"
   ]
  },
  {
   "cell_type": "code",
   "execution_count": 36,
   "metadata": {
    "collapsed": false
   },
   "outputs": [
    {
     "data": {
      "text/html": [
       "<div>\n",
       "<table border=\"1\" class=\"dataframe\">\n",
       "  <thead>\n",
       "    <tr style=\"text-align: right;\">\n",
       "      <th></th>\n",
       "      <th>Drug</th>\n",
       "      <th>N</th>\n",
       "    </tr>\n",
       "  </thead>\n",
       "  <tbody>\n",
       "    <tr>\n",
       "      <th>0</th>\n",
       "      <td>Hydrocodone</td>\n",
       "      <td>163</td>\n",
       "    </tr>\n",
       "    <tr>\n",
       "      <th>1</th>\n",
       "      <td>Albuterol</td>\n",
       "      <td>91</td>\n",
       "    </tr>\n",
       "    <tr>\n",
       "      <th>2</th>\n",
       "      <td>Amoxicillin</td>\n",
       "      <td>57</td>\n",
       "    </tr>\n",
       "    <tr>\n",
       "      <th>3</th>\n",
       "      <td>Atorvastatin</td>\n",
       "      <td>55</td>\n",
       "    </tr>\n",
       "  </tbody>\n",
       "</table>\n",
       "</div>"
      ],
      "text/plain": [
       "           Drug    N\n",
       "0   Hydrocodone  163\n",
       "1     Albuterol   91\n",
       "2   Amoxicillin   57\n",
       "3  Atorvastatin   55"
      ]
     },
     "execution_count": 36,
     "metadata": {},
     "output_type": "execute_result"
    }
   ],
   "source": [
    "import pandas as pd\n",
    "\n",
    "plot_data = {'Drug': [item[0] for item in data],\n",
    "            'N': [item[1] for item in data]}\n",
    "\n",
    "plot_data = pd.DataFrame(plot_data)\n",
    "plot_data"
   ]
  },
  {
   "cell_type": "code",
   "execution_count": 46,
   "metadata": {
    "collapsed": false
   },
   "outputs": [],
   "source": [
    "from bokeh.charts import Bar, output_file, show, hplot\n",
    "from bokeh.charts.attributes import ColorAttr, CatAttr\n",
    "from bokeh.charts.builders.bar_builder import BarBuilder\n",
    "\n",
    "\n",
    "\n",
    "\n",
    "# output to static HTML file\n",
    "output_file(\"plot.html\")\n",
    "\n",
    "p = Bar(plot_data, values='N', width=400, title=\"test chart\",\n",
    "        color=\"navy\",label=CatAttr(columns=['Drug'], sort=False),legend=\"\")\n",
    "\n",
    "# show the results\n",
    "show(p)\n",
    "\n",
    "\n"
   ]
  },
  {
   "cell_type": "code",
   "execution_count": 1,
   "metadata": {
    "collapsed": true
   },
   "outputs": [],
   "source": [
    "a = 'Hydrocodone, Albuterol,Amoxicillin,   Atorvastatin'"
   ]
  },
  {
   "cell_type": "code",
   "execution_count": 12,
   "metadata": {
    "collapsed": false
   },
   "outputs": [],
   "source": [
    "g = a.split(',')"
   ]
  },
  {
   "cell_type": "code",
   "execution_count": 14,
   "metadata": {
    "collapsed": false
   },
   "outputs": [
    {
     "data": {
      "text/plain": [
       "['Hydrocodone', 'Albuterol', 'Amoxicillin', 'Atorvastatin']"
      ]
     },
     "execution_count": 14,
     "metadata": {},
     "output_type": "execute_result"
    }
   ],
   "source": [
    "[s.strip() for s in g]"
   ]
  },
  {
   "cell_type": "code",
   "execution_count": 18,
   "metadata": {
    "collapsed": false
   },
   "outputs": [
    {
     "name": "stdout",
     "output_type": "stream",
     "text": [
      "//anaconda/lib/python2.7/site-packages/pandas/__init__.pyc\n"
     ]
    }
   ],
   "source": [
    "import pandas\n",
    "print(pandas.__file__)"
   ]
  },
  {
   "cell_type": "code",
   "execution_count": null,
   "metadata": {
    "collapsed": true
   },
   "outputs": [],
   "source": []
  }
 ],
 "metadata": {
  "anaconda-cloud": {},
  "kernelspec": {
   "display_name": "Python [Root]",
   "language": "python",
   "name": "Python [Root]"
  },
  "language_info": {
   "codemirror_mode": {
    "name": "ipython",
    "version": 2
   },
   "file_extension": ".py",
   "mimetype": "text/x-python",
   "name": "python",
   "nbconvert_exporter": "python",
   "pygments_lexer": "ipython2",
   "version": "2.7.12"
  }
 },
 "nbformat": 4,
 "nbformat_minor": 0
}
